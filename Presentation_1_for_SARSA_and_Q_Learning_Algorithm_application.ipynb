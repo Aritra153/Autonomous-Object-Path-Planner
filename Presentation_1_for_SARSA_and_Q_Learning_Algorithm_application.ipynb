{
  "cells": [
    {
      "cell_type": "markdown",
      "metadata": {
        "id": "view-in-github",
        "colab_type": "text"
      },
      "source": [
        "<a href=\"https://colab.research.google.com/github/Aritra153/Autonomous-Object-Path-Planner/blob/main/Presentation_1_for_SARSA_and_Q_Learning_Algorithm_application.ipynb\" target=\"_parent\"><img src=\"https://colab.research.google.com/assets/colab-badge.svg\" alt=\"Open In Colab\"/></a>"
      ]
    },
    {
      "cell_type": "code",
      "execution_count": null,
      "id": "ac867004",
      "metadata": {
        "id": "ac867004"
      },
      "outputs": [],
      "source": [
        "import numpy as np"
      ]
    },
    {
      "cell_type": "code",
      "execution_count": null,
      "id": "c3f574d9",
      "metadata": {
        "id": "c3f574d9"
      },
      "outputs": [],
      "source": [
        "Grid=np.zeros([16,4])\n",
        "R_rest=0\n",
        "R_block=-50  # Where the blocking agent is present(reward value)\n",
        "R_terminal=1000  # Reward value for reaching the Goal state\n",
        "alpha=0.1 # learning rate\n",
        "gamma=0.9"
      ]
    },
    {
      "cell_type": "code",
      "execution_count": null,
      "id": "914fcfc9",
      "metadata": {
        "id": "914fcfc9"
      },
      "outputs": [],
      "source": [
        "    # Action and Action values\n",
        "    # RIGHT action - 0\n",
        "    # UP action - 1\n",
        "    # LEFT action - 2\n",
        "    # DOWN action - 3\n",
        "    # In matrix Grid, the 1st index represents (state-1) and 2nd index represents action\n",
        "    # All the 16 random paths and updates performed after each move in every path is given below. One may choose more such random paths as well\n",
        "\n",
        "    Grid[0][0]=Grid[0][0]+alpha*(R_rest+(gamma*(Grid[1][1]))-Grid[0][0])\n",
        "    Grid[1][1]=Grid[1][1]+alpha*(R_rest+(gamma*(Grid[6][0]))-Grid[1][1])\n",
        "    Grid[6][0]=Grid[6][0]+alpha*(R_rest+(gamma*(Grid[5][0]))-Grid[6][0])\n",
        "    Grid[5][0]=Grid[5][0]+alpha*(R_rest+(gamma*(Grid[4][0]))-Grid[5][0])\n",
        "    Grid[4][0]=Grid[4][0]+alpha*(R_rest+(gamma*(Grid[11][1]))-Grid[4][0])\n",
        "    Grid[11][1]=Grid[11][1]+alpha*(R_terminal-Grid[11][1]) #terminal state\n",
        "\n",
        "    Grid[0][1]=Grid[0][1]+alpha*(R_rest+(gamma*(Grid[7][1]))-Grid[0][1])\n",
        "    Grid[7][1]=Grid[7][1]+alpha*(R_rest+(gamma*(Grid[8][0]))-Grid[7][1])\n",
        "    Grid[8][0]=Grid[8][0]+alpha*(R_block+(gamma*(Grid[9][0]))-Grid[8][0])\n",
        "    Grid[9][0]=Grid[9][0]+alpha*(R_rest+(gamma*(Grid[10][0]))-Grid[9][0])\n",
        "    Grid[10][0]=Grid[10][0]+alpha*(R_rest+(gamma*(Grid[11][1]))-Grid[10][0])\n",
        "    Grid[11][1]=Grid[11][1]+alpha*(R_terminal-Grid[11][1]) #terminal state\n",
        "\n",
        "    Grid[0][0]=Grid[0][0]+alpha*(R_rest+(gamma*(Grid[1][1]))-Grid[0][0])\n",
        "    Grid[1][1]=Grid[1][1]+alpha*(R_rest+(gamma*(Grid[6][1]))-Grid[1][1])\n",
        "    Grid[6][1]=Grid[6][1]+alpha*(R_block+(gamma*(Grid[9][0]))-Grid[6][1])\n",
        "    Grid[9][0]=Grid[9][0]+alpha*(R_rest+(gamma*(Grid[10][0]))-Grid[9][0])\n",
        "    Grid[10][0]=Grid[10][0]+alpha*(R_rest+(gamma*(Grid[11][1]))-Grid[10][0])\n",
        "    Grid[11][1]=Grid[11][1]+alpha*(R_terminal-Grid[11][1]) #terminal state\n",
        "\n",
        "    Grid[0][1]=Grid[0][1]+alpha*(R_rest+(gamma*(Grid[7][1]))-Grid[0][1])\n",
        "    Grid[7][1]=Grid[7][1]+alpha*(R_rest+(gamma*(Grid[8][1]))-Grid[7][1])\n",
        "    Grid[8][1]=Grid[8][1]+alpha*(R_rest+(gamma*(Grid[15][0]))-Grid[8][1])\n",
        "    Grid[15][0]=Grid[15][0]+alpha*(R_rest+(gamma*(Grid[14][0]))-Grid[15][0])\n",
        "    Grid[14][0]=Grid[14][0]+alpha*(R_rest+(gamma*(Grid[13][0]))-Grid[14][0])\n",
        "    Grid[13][0]=Grid[13][0]+alpha*(R_terminal-Grid[13][0]) #terminal state\n",
        "\n",
        "    Grid[0][0]=Grid[0][0]+alpha*(R_rest+(gamma*(Grid[1][0]))-Grid[0][0])\n",
        "    Grid[1][0]=Grid[1][0]+alpha*(R_rest+(gamma*(Grid[2][0]))-Grid[1][0])\n",
        "    Grid[2][0]=Grid[2][0]+alpha*(R_rest+(gamma*(Grid[3][1]))-Grid[2][0])\n",
        "    Grid[3][1]=Grid[3][1]+alpha*(R_rest+(gamma*(Grid[4][1]))-Grid[3][1])\n",
        "    Grid[4][1]=Grid[4][1]+alpha*(R_rest+(gamma*(Grid[11][1]))-Grid[4][1])\n",
        "    Grid[11][1]=Grid[11][1]+alpha*(R_terminal-Grid[11][1]) #terminal state\n",
        "\n",
        "    Grid[0][1]=Grid[0][1]+alpha*(R_rest+(gamma*(Grid[7][0]))-Grid[0][1])\n",
        "    Grid[7][0]=Grid[7][0]+alpha*(R_rest+(gamma*(Grid[6][0]))-Grid[7][0])\n",
        "    Grid[6][0]=Grid[6][0]+alpha*(R_rest+(gamma*(Grid[5][0]))-Grid[6][0])\n",
        "    Grid[5][0]=Grid[5][0]+alpha*(R_rest+(gamma*(Grid[4][1]))-Grid[5][0])\n",
        "    Grid[4][1]=Grid[4][1]+alpha*(R_rest+(gamma*(Grid[11][1]))-Grid[4][1])\n",
        "    Grid[11][1]=Grid[11][1]+alpha*(R_terminal-Grid[11][1])  #terminal state\n",
        "\n",
        "    Grid[0][0]=Grid[0][0]+alpha*(R_rest+(gamma*(Grid[1][1]))-Grid[0][0])\n",
        "    Grid[1][1]=Grid[1][1]+alpha*(R_rest+(gamma*(Grid[6][2]))-Grid[1][1])\n",
        "    Grid[6][2]=Grid[6][2]+alpha*(R_rest+(gamma*(Grid[7][1]))-Grid[6][2])\n",
        "    Grid[7][1]=Grid[7][1]+alpha*(R_rest+(gamma*(Grid[8][0]))-Grid[7][1])\n",
        "    Grid[8][0]=Grid[8][0]+alpha*(R_block+(gamma*(Grid[9][3]))-Grid[8][0])\n",
        "    Grid[9][3]=Grid[9][3]+alpha*(R_rest+(gamma*(Grid[6][0]))-Grid[9][3])\n",
        "    Grid[6][0]=Grid[6][0]+alpha*(R_rest+(gamma*(Grid[5][0]))-Grid[6][0])\n",
        "    Grid[5][0]=Grid[5][0]+alpha*(R_rest+(gamma*(Grid[4][1]))-Grid[5][0])\n",
        "    Grid[4][1]=Grid[4][1]+alpha*(R_rest+(gamma*(Grid[11][2]))-Grid[4][1])\n",
        "    Grid[11][2]=Grid[11][2]+alpha*(R_rest+(gamma*(Grid[10][1]))-Grid[11][2])\n",
        "    Grid[10][1]=Grid[10][1]+alpha*(R_rest+(gamma*(Grid[13][0]))-Grid[10][1])\n",
        "    Grid[13][0]=Grid[13][0]+alpha*(R_terminal-Grid[13][0])  #terminal state\n",
        "\n",
        "    Grid[0][1]=Grid[0][1]+alpha*(R_rest+(gamma*(Grid[7][1]))-Grid[0][1])\n",
        "    Grid[7][1]=Grid[7][1]+alpha*(R_rest+(gamma*(Grid[8][0]))-Grid[7][1])\n",
        "    Grid[8][0]=Grid[8][0]+alpha*(R_block+(gamma*(Grid[9][1]))-Grid[8][0])\n",
        "    Grid[9][1]=Grid[9][1]+alpha*(R_rest+(gamma*(Grid[10][3]))-Grid[9][1])\n",
        "    Grid[10][3]=Grid[10][3]+alpha*(R_rest+(gamma*(Grid[5][2]))-Grid[10][3])\n",
        "    Grid[5][2]=Grid[5][2]+alpha*(R_rest+(gamma*(Grid[6][3]))-Grid[5][2])\n",
        "    Grid[6][3]=Grid[6][3]+alpha*(R_rest+(gamma*(Grid[1][0]))-Grid[6][3])\n",
        "    Grid[1][0]=Grid[1][0]+alpha*(R_rest+(gamma*(Grid[2][1]))-Grid[1][0])\n",
        "    Grid[2][1]=Grid[2][1]+alpha*(R_rest+(gamma*(Grid[5][1]))-Grid[2][1])\n",
        "    Grid[5][1]=Grid[5][1]+alpha*(R_rest+(gamma*(Grid[10][2]))-Grid[5][1])\n",
        "    Grid[10][2]=Grid[10][2]+alpha*(R_block+(gamma*(Grid[9][1]))-Grid[10][2])\n",
        "    Grid[9][1]=Grid[9][1]+alpha*(R_rest+(gamma*(Grid[14][0]))-Grid[9][1])\n",
        "    Grid[14][1]=Grid[14][1]+alpha*(R_rest+(gamma*(Grid[13][0]))-Grid[14][1])\n",
        "    Grid[13][0]=Grid[13][0]+alpha*(R_terminal-Grid[13][0])  #terminal state\n",
        "\n",
        "    Grid[0][1]=Grid[0][1]+alpha*(R_rest+(gamma*(Grid[7][0]))-Grid[0][1])\n",
        "    Grid[7][0]=Grid[7][0]+alpha*(R_rest+(gamma*(Grid[6][3]))-Grid[7][0])\n",
        "    Grid[6][3]=Grid[6][3]+alpha*(R_rest+(gamma*(Grid[1][0]))-Grid[6][3])\n",
        "    Grid[1][0]=Grid[1][0]+alpha*(R_rest+(gamma*(Grid[2][1]))-Grid[1][0])\n",
        "    Grid[2][1]=Grid[2][1]+alpha*(R_rest+(gamma*(Grid[5][0]))-Grid[2][1])\n",
        "    Grid[5][0]=Grid[5][0]+alpha*(R_rest+(gamma*(Grid[4][3]))-Grid[5][0])\n",
        "    Grid[4][3]=Grid[4][3]+alpha*(R_rest+(gamma*(Grid[3][2]))-Grid[4][3])\n",
        "    Grid[3][2]=Grid[3][2]+alpha*(R_rest+(gamma*(Grid[2][1]))-Grid[3][2])\n",
        "    Grid[2][1]=Grid[2][1]+alpha*(R_rest+(gamma*(Grid[5][1]))-Grid[2][1])\n",
        "    Grid[5][1]=Grid[5][1]+alpha*(R_rest+(gamma*(Grid[10][2]))-Grid[5][1])\n",
        "    Grid[10][2]=Grid[10][2]+alpha*(R_block+(gamma*(Grid[9][2]))-Grid[10][2])\n",
        "    Grid[9][2]=Grid[9][2]+alpha*(R_rest+(gamma*(Grid[8][1]))-Grid[9][2])\n",
        "    Grid[8][1]=Grid[8][1]+alpha*(R_rest+(gamma*(Grid[15][0]))-Grid[8][1])\n",
        "    Grid[15][0]=Grid[15][0]+alpha*(R_rest+(gamma*(Grid[14][3]))-Grid[15][0])\n",
        "    Grid[14][3]=Grid[14][3]+alpha*(R_block+(gamma*(Grid[9][0]))-Grid[14][3])\n",
        "    Grid[9][0]=Grid[9][0]+alpha*(R_rest+(gamma*(Grid[10][2]))-Grid[9][0])\n",
        "    Grid[10][2]=Grid[10][2]+alpha*(R_rest+(gamma*(Grid[13][0]))-Grid[10][2])\n",
        "    Grid[13][0]=Grid[13][0]+alpha*(R_terminal-Grid[13][0])  #terminal state\n",
        "\n",
        "    Grid[0][0]=Grid[0][0]+alpha*(R_rest+(gamma*(Grid[1][0]))-Grid[0][0])\n",
        "    Grid[1][0]=Grid[1][0]+alpha*(R_rest+(gamma*(Grid[2][1]))-Grid[1][0])\n",
        "    Grid[2][1]=Grid[2][1]+alpha*(R_rest+(gamma*(Grid[5][2]))-Grid[2][1])\n",
        "    Grid[5][2]=Grid[5][2]+alpha*(R_rest+(gamma*(Grid[6][2]))-Grid[5][2])\n",
        "    Grid[6][2]=Grid[6][2]+alpha*(R_rest+(gamma*(Grid[7][1]))-Grid[6][2])\n",
        "    Grid[7][1]=Grid[7][1]+alpha*(R_rest+(gamma*(Grid[8][0]))-Grid[7][1])\n",
        "    Grid[8][0]=Grid[8][0]+alpha*(R_block+(gamma*(Grid[9][1]))-Grid[8][0])\n",
        "    Grid[9][1]=Grid[9][1]+alpha*(R_rest+(gamma*(Grid[14][2]))-Grid[9][1])\n",
        "    Grid[14][2]=Grid[14][2]+alpha*(R_rest+(gamma*(Grid[15][3]))-Grid[14][2])\n",
        "    Grid[15][3]=Grid[15][3]+alpha*(R_rest+(gamma*(Grid[8][3]))-Grid[15][3])\n",
        "    Grid[8][3]=Grid[8][3]+alpha*(R_rest+(gamma*(Grid[7][3]))-Grid[8][3])\n",
        "    Grid[7][3]=Grid[7][3]+alpha*(R_rest+(gamma*(Grid[1][0]))-Grid[7][3])\n",
        "    Grid[1][0]=Grid[1][0]+alpha*(R_rest+(gamma*(Grid[1][1]))-Grid[1][0])\n",
        "    Grid[1][1]=Grid[1][1]+alpha*(R_rest+(gamma*(Grid[6][0]))-Grid[1][1])\n",
        "    Grid[6][0]=Grid[6][0]+alpha*(R_rest+(gamma*(Grid[5][1]))-Grid[6][0])\n",
        "    Grid[5][1]=Grid[5][1]+alpha*(R_rest+(gamma*(Grid[10][0]))-Grid[5][1])\n",
        "    Grid[10][0]=Grid[10][0]+alpha*(R_rest+(gamma*(Grid[11][1]))-Grid[10][0])\n",
        "    Grid[11][1]=Grid[11][1]+alpha*(R_terminal-Grid[11][1])  #terminal state\n",
        "\n",
        "    Grid[0][1]=Grid[0][1]+alpha*(R_rest+(gamma*(Grid[7][1]))-Grid[0][1])\n",
        "    Grid[7][1]=Grid[7][1]+alpha*(R_rest+(gamma*(Grid[8][1]))-Grid[7][1])\n",
        "    Grid[8][1]=Grid[8][1]+alpha*(R_rest+(gamma*(Grid[15][0]))-Grid[8][1])\n",
        "    Grid[15][0]=Grid[15][0]+alpha*(R_rest+(gamma*(Grid[14][3]))-Grid[15][0])\n",
        "    Grid[14][3]=Grid[14][3]+alpha*(R_block+(gamma*(Grid[9][3]))-Grid[14][3])\n",
        "    Grid[9][3]=Grid[9][3]+alpha*(R_rest+(gamma*(Grid[6][3]))-Grid[9][3])\n",
        "    Grid[6][3]=Grid[6][3]+alpha*(R_rest+(gamma*(Grid[1][2]))-Grid[6][3])\n",
        "    Grid[1][2]=Grid[1][2]+alpha*(R_rest+(gamma*(Grid[0][1]))-Grid[1][2])\n",
        "    Grid[0][1]=Grid[0][1]+alpha*(R_rest+(gamma*(Grid[7][0]))-Grid[0][1])\n",
        "    Grid[7][0]=Grid[7][0]+alpha*(R_rest+(gamma*(Grid[6][0]))-Grid[7][0])\n",
        "    Grid[6][0]=Grid[6][0]+alpha*(R_rest+(gamma*(Grid[5][0]))-Grid[6][0])\n",
        "    Grid[5][0]=Grid[5][0]+alpha*(R_rest+(gamma*(Grid[4][3]))-Grid[5][0])\n",
        "    Grid[4][3]=Grid[4][3]+alpha*(R_rest+(gamma*(Grid[3][2]))-Grid[4][3])\n",
        "    Grid[3][2]=Grid[3][2]+alpha*(R_rest+(gamma*(Grid[2][2]))-Grid[3][2])\n",
        "    Grid[2][2]=Grid[2][2]+alpha*(R_rest+(gamma*(Grid[1][1]))-Grid[2][2])\n",
        "    Grid[1][1]=Grid[1][1]+alpha*(R_rest+(gamma*(Grid[6][1]))-Grid[1][1])\n",
        "    Grid[6][1]=Grid[6][1]+alpha*(R_block+(gamma*(Grid[9][0]))-Grid[6][1])\n",
        "    Grid[9][0]=Grid[9][0]+alpha*(R_rest+(gamma*(Grid[10][3]))-Grid[9][0])\n",
        "    Grid[10][3]=Grid[10][3]+alpha*(R_rest+(gamma*(Grid[5][2]))-Grid[10][3])\n",
        "    Grid[5][2]=Grid[5][2]+alpha*(R_rest+(gamma*(Grid[6][2]))-Grid[5][2])\n",
        "    Grid[6][2]=Grid[6][2]+alpha*(R_rest+(gamma*(Grid[0][0]))-Grid[6][2])\n",
        "    Grid[0][0]=Grid[0][0]+alpha*(R_rest+(gamma*(Grid[1][0]))-Grid[0][0])\n",
        "    Grid[1][0]=Grid[1][0]+alpha*(R_rest+(gamma*(Grid[2][1]))-Grid[1][0])\n",
        "    Grid[2][1]=Grid[2][1]+alpha*(R_rest+(gamma*(Grid[5][2]))-Grid[2][1])\n",
        "    Grid[5][2]=Grid[5][2]+alpha*(R_rest+(gamma*(Grid[6][1]))-Grid[5][2])\n",
        "    Grid[6][1]=Grid[6][1]+alpha*(R_block+(gamma*(Grid[9][1]))-Grid[6][1])\n",
        "    Grid[9][1]=Grid[9][1]+alpha*(R_rest+(gamma*(Grid[14][2]))-Grid[9][1])\n",
        "    Grid[14][2]=Grid[14][2]+alpha*(R_rest+(gamma*(Grid[15][3]))-Grid[14][2])\n",
        "    Grid[15][3]=Grid[15][3]+alpha*(R_rest+(gamma*(Grid[8][3]))-Grid[15][3])\n",
        "    Grid[8][3]=Grid[8][3]+alpha*(R_rest+(gamma*(Grid[7][0]))-Grid[8][3])\n",
        "    Grid[7][0]=Grid[7][0]+alpha*(R_rest+(gamma*(Grid[6][2]))-Grid[7][0])\n",
        "    Grid[6][2]=Grid[6][2]+alpha*(R_rest+(gamma*(Grid[0][0]))-Grid[6][2])\n",
        "    Grid[0][0]=Grid[0][0]+alpha*(R_rest+(gamma*(Grid[1][0]))-Grid[0][0])\n",
        "    Grid[1][0]=Grid[1][0]+alpha*(R_rest+(gamma*(Grid[2][1]))-Grid[1][0])\n",
        "    Grid[2][1]=Grid[2][1]+alpha*(R_rest+(gamma*(Grid[5][0]))-Grid[2][1])\n",
        "    Grid[5][0]=Grid[5][0]+alpha*(R_rest+(gamma*(Grid[4][1]))-Grid[5][0])\n",
        "    Grid[4][1]=Grid[4][1]+alpha*(R_rest+(gamma*(Grid[11][1]))-Grid[4][1])\n",
        "    Grid[11][1]=Grid[11][1]+alpha*(R_terminal-Grid[11][1])  #terminal state\n",
        "\n",
        "    Grid[0][0]=Grid[0][0]+alpha*(R_rest+(gamma*(Grid[1][0]))-Grid[0][0])\n",
        "    Grid[1][0]=Grid[1][0]+alpha*(R_rest+(gamma*(Grid[2][1]))-Grid[1][0])\n",
        "    Grid[2][1]=Grid[2][1]+alpha*(R_rest+(gamma*(Grid[1][0]))-Grid[2][1])\n",
        "    Grid[1][0]=Grid[1][0]+alpha*(R_rest+(gamma*(Grid[5][0]))-Grid[1][0])\n",
        "    Grid[5][0]=Grid[5][0]+alpha*(R_rest+(gamma*(Grid[4][1]))-Grid[5][0])\n",
        "    Grid[4][1]=Grid[4][1]+alpha*(R_rest+(gamma*(Grid[11][2]))-Grid[4][1])\n",
        "    Grid[11][2]=Grid[11][2]+alpha*(R_rest+(gamma*(Grid[10][3]))-Grid[11][2])\n",
        "    Grid[10][3]=Grid[10][3]+alpha*(R_rest+(gamma*(Grid[5][2]))-Grid[10][3])\n",
        "    Grid[5][2]=Grid[5][2]+alpha*(R_rest+(gamma*(Grid[6][2]))-Grid[5][2])\n",
        "    Grid[6][2]=Grid[6][2]+alpha*(R_rest+(gamma*(Grid[7][1]))-Grid[6][2])\n",
        "    Grid[7][1]=Grid[7][1]+alpha*(R_rest+(gamma*(Grid[8][0]))-Grid[7][1])\n",
        "    Grid[8][0]=Grid[8][0]+alpha*(R_block+(gamma*(Grid[9][0]))-Grid[8][0])\n",
        "    Grid[9][0]=Grid[9][0]+alpha*(R_rest+(gamma*(Grid[10][0]))-Grid[9][0])\n",
        "    Grid[10][0]=Grid[10][0]+alpha*(R_rest+(gamma*(Grid[11][1]))-Grid[10][0])\n",
        "    Grid[11][1]=Grid[11][1]+alpha*(R_terminal-Grid[11][1])  #terminal state\n",
        "\n",
        "    Grid[0][0]=Grid[0][0]+alpha*(R_rest+(gamma*(Grid[1][0]))-Grid[0][0])\n",
        "    Grid[1][0]=Grid[1][0]+alpha*(R_rest+(gamma*(Grid[2][1]))-Grid[1][0])\n",
        "    Grid[2][1]=Grid[2][1]+alpha*(R_rest+(gamma*(Grid[5][0]))-Grid[2][1])\n",
        "    Grid[5][0]=Grid[5][0]+alpha*(R_rest+(gamma*(Grid[4][1]))-Grid[5][0])\n",
        "    Grid[4][1]=Grid[4][1]+alpha*(R_rest+(gamma*(Grid[11][2]))-Grid[4][1])\n",
        "    Grid[11][2]=Grid[11][2]+alpha*(R_rest+(gamma*(Grid[10][2]))-Grid[11][2])\n",
        "    Grid[10][2]=Grid[10][2]+alpha*(R_block+(gamma*(Grid[9][2]))-Grid[10][2])\n",
        "    Grid[9][2]=Grid[9][2]+alpha*(R_rest+(gamma*(Grid[8][1]))-Grid[9][2])\n",
        "    Grid[8][1]=Grid[8][1]+alpha*(R_rest+(gamma*(Grid[15][0]))-Grid[8][1])\n",
        "    Grid[15][0]=Grid[15][0]+alpha*(R_rest+(gamma*(Grid[14][0]))-Grid[15][0])\n",
        "    Grid[14][0]=Grid[14][0]+alpha*(R_rest+(gamma*(Grid[13][0]))-Grid[14][0])\n",
        "    Grid[13][0]=Grid[13][0]+alpha*(R_terminal-Grid[13][0])  #terminal state\n",
        "\n",
        "    Grid[0][0]=Grid[0][0]+alpha*(R_rest+(gamma*(Grid[1][1]))-Grid[0][0])\n",
        "    Grid[1][1]=Grid[1][1]+alpha*(R_rest+(gamma*(Grid[6][2]))-Grid[1][1])\n",
        "    Grid[6][2]=Grid[6][2]+alpha*(R_rest+(gamma*(Grid[7][3]))-Grid[6][2])\n",
        "    Grid[7][3]=Grid[7][3]+alpha*(R_rest+(gamma*(Grid[0][0]))-Grid[7][3])\n",
        "    Grid[0][0]=Grid[0][0]+alpha*(R_rest+(gamma*(Grid[1][0]))-Grid[0][0])\n",
        "    Grid[1][0]=Grid[1][0]+alpha*(R_rest+(gamma*(Grid[2][1]))-Grid[1][0])\n",
        "    Grid[2][1]=Grid[2][1]+alpha*(R_rest+(gamma*(Grid[5][1]))-Grid[2][1])\n",
        "    Grid[5][1]=Grid[5][1]+alpha*(R_rest+(gamma*(Grid[10][1]))-Grid[5][1])\n",
        "    Grid[10][1]=Grid[10][1]+alpha*(R_rest+(gamma*(Grid[13][0]))-Grid[10][1])\n",
        "    Grid[13][0]=Grid[13][0]+alpha*(R_terminal-Grid[13][0])  #terminal state\n",
        "\n",
        "    Grid[0][1]=Grid[0][1]+alpha*(R_rest+(gamma*(Grid[7][0]))-Grid[0][1])\n",
        "    Grid[7][0]=Grid[7][0]+alpha*(R_rest+(gamma*(Grid[6][0]))-Grid[7][0])\n",
        "    Grid[6][0]=Grid[6][0]+alpha*(R_rest+(gamma*(Grid[5][3]))-Grid[6][0])\n",
        "    Grid[5][3]=Grid[5][3]+alpha*(R_rest+(gamma*(Grid[2][0]))-Grid[5][3])\n",
        "    Grid[2][0]=Grid[2][0]+alpha*(R_rest+(gamma*(Grid[3][1]))-Grid[2][0])\n",
        "    Grid[3][1]=Grid[3][1]+alpha*(R_rest+(gamma*(Grid[4][1]))-Grid[3][1])\n",
        "    Grid[4][1]=Grid[4][1]+alpha*(R_rest+(gamma*(Grid[11][2]))-Grid[4][1])\n",
        "    Grid[11][2]=Grid[11][2]+alpha*(R_rest+(gamma*(Grid[10][1]))-Grid[11][2])\n",
        "    Grid[10][1]=Grid[10][1]+alpha*(R_rest+(gamma*(Grid[13][3]))-Grid[10][1])\n",
        "    Grid[13][3]=Grid[13][3]+alpha*(R_rest+(gamma*(Grid[10][0]))-Grid[13][3])\n",
        "    Grid[10][0]=Grid[10][0]+alpha*(R_rest+(gamma*(Grid[11][1]))-Grid[10][0])\n",
        "    Grid[11][1]=Grid[11][1]+alpha*(R_terminal-Grid[11][1])  #terminal state\n",
        "\n",
        "    Grid[0][0]=Grid[0][0]+alpha*(R_rest+(gamma*(Grid[1][1]))-Grid[0][0])\n",
        "    Grid[1][1]=Grid[1][1]+alpha*(R_rest+(gamma*(Grid[6][2]))-Grid[1][1])\n",
        "    Grid[6][2]=Grid[6][2]+alpha*(R_rest+(gamma*(Grid[7][1]))-Grid[6][2])\n",
        "    Grid[7][1]=Grid[7][1]+alpha*(R_rest+(gamma*(Grid[8][0]))-Grid[7][1])\n",
        "    Grid[8][0]=Grid[8][0]+alpha*(R_block+(gamma*(Grid[9][1]))-Grid[8][0])\n",
        "    Grid[9][1]=Grid[9][1]+alpha*(R_rest+(gamma*(Grid[14][0]))-Grid[9][1])\n",
        "    Grid[14][0]=Grid[14][0]+alpha*(R_rest+(gamma*(Grid[13][0]))-Grid[14][0])\n",
        "    Grid[13][0]=Grid[13][0]+alpha*(R_terminal-Grid[13][0])  #terminal state\n",
        "\n",
        "\n",
        "\n",
        "\n",
        "\n"
      ]
    },
    {
      "cell_type": "code",
      "execution_count": null,
      "id": "833b7f99",
      "metadata": {
        "id": "833b7f99"
      },
      "outputs": [],
      "source": [
        " # Function for finding which action to take in a particular state. Here the function argument is in the form (state-1)\n",
        " def arg_max(state):\n",
        "    max=Grid[state][0]\n",
        "    a=0\n",
        "    for i in range(1,4):\n",
        "        if(Grid[state][i]>max):\n",
        "            max=Grid[state][i]\n",
        "            a=i\n",
        "\n",
        "    return a"
      ]
    },
    {
      "cell_type": "code",
      "execution_count": null,
      "id": "cacd5fae",
      "metadata": {
        "colab": {
          "base_uri": "https://localhost:8080/"
        },
        "id": "cacd5fae",
        "outputId": "c90c3739-6b46-4d75-a80b-c2d82271e6ed"
      },
      "outputs": [
        {
          "output_type": "execute_result",
          "data": {
            "text/plain": [
              "array([[ 8.78637831e-02, -1.97967946e-01,  0.00000000e+00,\n",
              "         0.00000000e+00],\n",
              "       [ 1.06548334e+00, -3.95725093e-01, -2.20158000e-02,\n",
              "         0.00000000e+00],\n",
              "       [ 0.00000000e+00,  2.11867614e+00,  1.60022790e-03,\n",
              "         0.00000000e+00],\n",
              "       [ 0.00000000e+00,  6.19802580e+00,  4.91110533e-02,\n",
              "         0.00000000e+00],\n",
              "       [ 0.00000000e+00,  6.21085620e+01,  0.00000000e+00,\n",
              "         4.91110533e-03],\n",
              "       [ 2.12222862e+01,  2.48670000e+00, -7.86920038e-01,\n",
              "         0.00000000e+00],\n",
              "       [ 6.02326044e-01, -1.35602060e+01, -5.31605335e-01,\n",
              "         0.00000000e+00],\n",
              "       [ 6.19751404e-02, -4.95221004e+00,  0.00000000e+00,\n",
              "         9.18847200e-03],\n",
              "       [-2.34371354e+01, -3.99095100e-02,  0.00000000e+00,\n",
              "         1.11215511e-03],\n",
              "       [ 5.25617100e+00,  2.78559000e+00,  0.00000000e+00,\n",
              "         0.00000000e+00],\n",
              "       [ 1.41739981e+02,  4.04603100e+01,  9.25600000e+00,\n",
              "        -7.78685400e-02],\n",
              "       [ 0.00000000e+00,  6.12579511e+02,  5.32907100e+00,\n",
              "         0.00000000e+00],\n",
              "       [ 0.00000000e+00,  0.00000000e+00,  0.00000000e+00,\n",
              "         0.00000000e+00],\n",
              "       [ 5.21703100e+02,  0.00000000e+00,  0.00000000e+00,\n",
              "         9.04820301e+00],\n",
              "       [ 7.00262100e+01,  1.71000000e+01,  0.00000000e+00,\n",
              "        -9.43439000e+00],\n",
              "       [-3.99095100e-01,  0.00000000e+00,  0.00000000e+00,\n",
              "         0.00000000e+00]])"
            ]
          },
          "metadata": {},
          "execution_count": 5
        }
      ],
      "source": [
        "Grid"
      ]
    },
    {
      "cell_type": "code",
      "execution_count": null,
      "id": "fdd444b3",
      "metadata": {
        "colab": {
          "base_uri": "https://localhost:8080/"
        },
        "id": "fdd444b3",
        "outputId": "1da9b255-8e41-49aa-b994-259297a03fc3"
      },
      "outputs": [
        {
          "output_type": "execute_result",
          "data": {
            "text/plain": [
              "3"
            ]
          },
          "metadata": {},
          "execution_count": 6
        }
      ],
      "source": [
        "arg_max(8)"
      ]
    },
    {
      "cell_type": "code",
      "execution_count": null,
      "id": "1f647a7b",
      "metadata": {
        "colab": {
          "base_uri": "https://localhost:8080/"
        },
        "id": "1f647a7b",
        "outputId": "90c695e4-d06b-403e-b9be-a9b277a029d0"
      },
      "outputs": [
        {
          "output_type": "execute_result",
          "data": {
            "text/plain": [
              "1"
            ]
          },
          "metadata": {},
          "execution_count": 7
        }
      ],
      "source": [
        "arg_max(15)"
      ]
    },
    {
      "cell_type": "code",
      "execution_count": null,
      "id": "5a1be4d5",
      "metadata": {
        "colab": {
          "base_uri": "https://localhost:8080/"
        },
        "id": "5a1be4d5",
        "outputId": "b246b476-628c-47de-8f01-b39a7aa7504f"
      },
      "outputs": [
        {
          "output_type": "execute_result",
          "data": {
            "text/plain": [
              "0"
            ]
          },
          "metadata": {},
          "execution_count": 8
        }
      ],
      "source": [
        "arg_max(6)"
      ]
    },
    {
      "cell_type": "code",
      "execution_count": null,
      "id": "0c8370aa",
      "metadata": {
        "colab": {
          "base_uri": "https://localhost:8080/"
        },
        "id": "0c8370aa",
        "outputId": "396d9878-fe0d-4530-d96a-04b632ebc0ac"
      },
      "outputs": [
        {
          "output_type": "execute_result",
          "data": {
            "text/plain": [
              "0"
            ]
          },
          "metadata": {},
          "execution_count": 9
        }
      ],
      "source": [
        "arg_max(0)"
      ]
    },
    {
      "cell_type": "code",
      "execution_count": null,
      "id": "5dd0c0b4",
      "metadata": {
        "id": "5dd0c0b4"
      },
      "outputs": [],
      "source": [
        "# Result of the action taken at a particular state. Returns the value of the new state the agent has reached.\n",
        "def action_result(state,action):\n",
        "    stat=0\n",
        "    if(state==1 or state==2 or state==3 or state==4):\n",
        "        if(action==0):\n",
        "            if((state+1)<=4):\n",
        "                stat=state+1\n",
        "        if(action==2):\n",
        "            if((state-1)>=1):\n",
        "                stat=state-1\n",
        "        if(action==1):\n",
        "            stat=9-state\n",
        "    if(state==9 or state==10 or state==11 or state==12):\n",
        "        if(action==0):\n",
        "            if((state+1)<=13):\n",
        "                stat=state+1\n",
        "        if(action==2):\n",
        "            if((state-1)>=9):\n",
        "                stat=state-1\n",
        "        if(action==1):\n",
        "            stat=25-state\n",
        "        if(action==3):\n",
        "            stat=17-state\n",
        "    if(state==5 or state==6 or state==7 or state==8):\n",
        "        if(action==0):\n",
        "            if((state-1)>=5):\n",
        "                stat=state-1\n",
        "        if(action==2):\n",
        "            if((state+1)>=8):\n",
        "                stat=state+1\n",
        "        if(action==1):\n",
        "            stat=17-state\n",
        "        if(action==3):\n",
        "            stat=9-state\n",
        "    if(state==14 or state==15 or state==16):\n",
        "        if(action==0):\n",
        "            stat=state-1\n",
        "        if(action==2):\n",
        "            if((state+1)>16):\n",
        "                stat=state+1\n",
        "        if(action==3):\n",
        "            stat=25-state\n",
        "\n",
        "    return (stat-1)\n",
        "\n",
        ""
      ]
    },
    {
      "cell_type": "code",
      "execution_count": null,
      "id": "798ff564",
      "metadata": {
        "colab": {
          "base_uri": "https://localhost:8080/"
        },
        "id": "798ff564",
        "outputId": "dd3b4160-bb4f-46c5-c052-1a667bfe151b"
      },
      "outputs": [
        {
          "output_type": "execute_result",
          "data": {
            "text/plain": [
              "12"
            ]
          },
          "metadata": {},
          "execution_count": 11
        }
      ],
      "source": [
        "action_result(12,arg_max(11))"
      ]
    },
    {
      "cell_type": "code",
      "execution_count": null,
      "id": "be4e451a",
      "metadata": {
        "colab": {
          "base_uri": "https://localhost:8080/"
        },
        "id": "be4e451a",
        "outputId": "3ae4b41f-d863-4efd-d705-273ac8929977"
      },
      "outputs": [
        {
          "output_type": "execute_result",
          "data": {
            "text/plain": [
              "5"
            ]
          },
          "metadata": {},
          "execution_count": 12
        }
      ],
      "source": [
        "action_result(7,arg_max(6))"
      ]
    },
    {
      "cell_type": "code",
      "execution_count": null,
      "id": "10c96172",
      "metadata": {
        "colab": {
          "base_uri": "https://localhost:8080/"
        },
        "id": "10c96172",
        "outputId": "23cec7f7-0765-44e0-f7b8-dc9bcb641f65"
      },
      "outputs": [
        {
          "output_type": "execute_result",
          "data": {
            "text/plain": [
              "1"
            ]
          },
          "metadata": {},
          "execution_count": 13
        }
      ],
      "source": [
        "action_result(1,arg_max(0))"
      ]
    },
    {
      "cell_type": "code",
      "execution_count": null,
      "id": "83a64d76",
      "metadata": {
        "id": "83a64d76"
      },
      "outputs": [],
      "source": [
        "# Finally applying Q-Learning algorithm after making the agent(Here our Robot) learn a bit from SARSA algorithm. I have run for just 5 loops. One may run it for any number of loops\n",
        "\n",
        "for i in range(5):\n",
        "    st=0\n",
        "    while(st!=12):\n",
        "\n",
        "\n",
        "        if(action_result((st+1),(arg_max(st)))==9):\n",
        "            Grid[st][arg_max(st)]=Grid[st][arg_max(st)]+alpha*(R_block+(gamma*(Grid[action_result((st+1),(arg_max(st)))][arg_max(action_result((st+1),(arg_max(st))))]))-Grid[st][arg_max(st)])\n",
        "            st=action_result((st+1),(arg_max[st]))\n",
        "\n",
        "        if(action_result((st+1),(arg_max(st)))==12):\n",
        "            Grid[st][arg_max(st)]=Grid[st][arg_max(st)]+alpha*(R_terminal-Grid[st][arg_max(st)])\n",
        "\n",
        "        Grid[st][arg_max(st)]=Grid[st][arg_max(st)]+alpha*(R_rest+(gamma*(Grid[action_result((st+1),(arg_max(st)))][arg_max(action_result((st+1),(arg_max(st))))]))-Grid[st][arg_max(st)])\n",
        "        st=action_result((st+1),(arg_max(st)))\n",
        ""
      ]
    },
    {
      "cell_type": "code",
      "execution_count": null,
      "id": "1851ebec",
      "metadata": {
        "colab": {
          "base_uri": "https://localhost:8080/"
        },
        "id": "1851ebec",
        "outputId": "da634239-56bc-4852-db01-38a9c7067537"
      },
      "outputs": [
        {
          "output_type": "execute_result",
          "data": {
            "text/plain": [
              "array([[ 6.38836963e-01, -1.97967946e-01,  0.00000000e+00,\n",
              "         0.00000000e+00],\n",
              "       [ 3.05773414e+00, -3.95725093e-01, -2.20158000e-02,\n",
              "         0.00000000e+00],\n",
              "       [ 0.00000000e+00,  1.49201575e+01,  1.60022790e-03,\n",
              "         0.00000000e+00],\n",
              "       [ 0.00000000e+00,  6.19802580e+00,  4.91110533e-02,\n",
              "         0.00000000e+00],\n",
              "       [ 0.00000000e+00,  2.44841553e+02,  0.00000000e+00,\n",
              "         4.91110533e-03],\n",
              "       [ 6.95453597e+01,  2.48670000e+00, -7.86920038e-01,\n",
              "         0.00000000e+00],\n",
              "       [ 6.02326044e-01, -1.35602060e+01, -5.31605335e-01,\n",
              "         0.00000000e+00],\n",
              "       [ 6.19751404e-02, -4.95221004e+00,  0.00000000e+00,\n",
              "         9.18847200e-03],\n",
              "       [-2.34371354e+01, -3.99095100e-02,  0.00000000e+00,\n",
              "         1.11215511e-03],\n",
              "       [ 5.25617100e+00,  2.78559000e+00,  0.00000000e+00,\n",
              "         0.00000000e+00],\n",
              "       [ 1.41739981e+02,  4.04603100e+01,  9.25600000e+00,\n",
              "        -7.78685400e-02],\n",
              "       [ 0.00000000e+00,  5.22114007e+02,  5.32907100e+00,\n",
              "         0.00000000e+00],\n",
              "       [ 0.00000000e+00,  0.00000000e+00,  0.00000000e+00,\n",
              "         0.00000000e+00],\n",
              "       [ 5.21703100e+02,  0.00000000e+00,  0.00000000e+00,\n",
              "         9.04820301e+00],\n",
              "       [ 7.00262100e+01,  1.71000000e+01,  0.00000000e+00,\n",
              "        -9.43439000e+00],\n",
              "       [-3.99095100e-01,  0.00000000e+00,  0.00000000e+00,\n",
              "         0.00000000e+00]])"
            ]
          },
          "metadata": {},
          "execution_count": 15
        }
      ],
      "source": [
        "# Display of the (16x4) Grid matrix\n",
        "Grid"
      ]
    },
    {
      "cell_type": "code",
      "execution_count": null,
      "id": "89c8e7d3",
      "metadata": {
        "id": "89c8e7d3"
      },
      "outputs": [],
      "source": []
    }
  ],
  "metadata": {
    "kernelspec": {
      "display_name": "Python 3 (ipykernel)",
      "language": "python",
      "name": "python3"
    },
    "language_info": {
      "codemirror_mode": {
        "name": "ipython",
        "version": 3
      },
      "file_extension": ".py",
      "mimetype": "text/x-python",
      "name": "python",
      "nbconvert_exporter": "python",
      "pygments_lexer": "ipython3",
      "version": "3.9.7"
    },
    "colab": {
      "provenance": [],
      "include_colab_link": true
    }
  },
  "nbformat": 4,
  "nbformat_minor": 5
}